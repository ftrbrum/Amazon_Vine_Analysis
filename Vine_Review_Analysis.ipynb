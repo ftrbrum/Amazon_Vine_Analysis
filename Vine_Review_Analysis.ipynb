{
  "nbformat": 4,
  "nbformat_minor": 0,
  "metadata": {
    "colab": {
      "name": "Vine_Review_Analysis.ipynb",
      "provenance": [],
      "collapsed_sections": [],
      "authorship_tag": "ABX9TyOE409w8HIVtR1hHuqVJtvY",
      "include_colab_link": true
    },
    "kernelspec": {
      "name": "python3",
      "display_name": "Python 3"
    },
    "language_info": {
      "name": "python"
    }
  },
  "cells": [
    {
      "cell_type": "markdown",
      "metadata": {
        "id": "view-in-github",
        "colab_type": "text"
      },
      "source": [
        "<a href=\"https://colab.research.google.com/github/ftrbrum/Amazon_Vine_Analysis/blob/main/Vine_Review_Analysis.ipynb\" target=\"_parent\"><img src=\"https://colab.research.google.com/assets/colab-badge.svg\" alt=\"Open In Colab\"/></a>"
      ]
    },
    {
      "cell_type": "code",
      "metadata": {
        "colab": {
          "base_uri": "https://localhost:8080/"
        },
        "id": "L0cDBvVCQylt",
        "outputId": "fc8a5548-5497-4bfe-b868-ec5b391455ad"
      },
      "source": [
        "import os\n",
        "# Find the latest version of spark 3.0 from http://www.apache.org/dist/spark/ and enter as the spark version\n",
        "# For example:\n",
        "# spark_version = 'spark-3.0.3'\n",
        "spark_version = 'spark-3.0.3'\n",
        "os.environ['SPARK_VERSION']=spark_version\n",
        "\n",
        "# Install Spark and Java\n",
        "!apt-get update\n",
        "!apt-get install openjdk-11-jdk-headless -qq > /dev/null\n",
        "!wget -q http://www.apache.org/dist/spark/$SPARK_VERSION/$SPARK_VERSION-bin-hadoop2.7.tgz\n",
        "!tar xf $SPARK_VERSION-bin-hadoop2.7.tgz\n",
        "!pip install -q findspark\n",
        "\n",
        "# Set Environment Variables\n",
        "import os\n",
        "os.environ[\"JAVA_HOME\"] = \"/usr/lib/jvm/java-11-openjdk-amd64\"\n",
        "os.environ[\"SPARK_HOME\"] = f\"/content/{spark_version}-bin-hadoop2.7\"\n",
        "\n",
        "# Start a SparkSession\n",
        "import findspark\n",
        "findspark.init()"
      ],
      "execution_count": null,
      "outputs": [
        {
          "output_type": "stream",
          "text": [
            "Hit:1 https://cloud.r-project.org/bin/linux/ubuntu bionic-cran40/ InRelease\n",
            "Ign:2 https://developer.download.nvidia.com/compute/cuda/repos/ubuntu1804/x86_64  InRelease\n",
            "Get:3 http://security.ubuntu.com/ubuntu bionic-security InRelease [88.7 kB]\n",
            "Ign:4 https://developer.download.nvidia.com/compute/machine-learning/repos/ubuntu1804/x86_64  InRelease\n",
            "Hit:5 https://developer.download.nvidia.com/compute/cuda/repos/ubuntu1804/x86_64  Release\n",
            "Hit:6 http://ppa.launchpad.net/c2d4u.team/c2d4u4.0+/ubuntu bionic InRelease\n",
            "Hit:7 https://developer.download.nvidia.com/compute/machine-learning/repos/ubuntu1804/x86_64  Release\n",
            "Hit:9 http://archive.ubuntu.com/ubuntu bionic InRelease\n",
            "Hit:10 http://ppa.launchpad.net/cran/libgit2/ubuntu bionic InRelease\n",
            "Get:11 http://archive.ubuntu.com/ubuntu bionic-updates InRelease [88.7 kB]\n",
            "Hit:13 http://ppa.launchpad.net/deadsnakes/ppa/ubuntu bionic InRelease\n",
            "Get:14 http://archive.ubuntu.com/ubuntu bionic-backports InRelease [74.6 kB]\n",
            "Hit:15 http://ppa.launchpad.net/graphics-drivers/ppa/ubuntu bionic InRelease\n",
            "Fetched 252 kB in 3s (95.3 kB/s)\n",
            "Reading package lists... Done\n"
          ],
          "name": "stdout"
        }
      ]
    },
    {
      "cell_type": "code",
      "metadata": {
        "colab": {
          "base_uri": "https://localhost:8080/"
        },
        "id": "r4nXpRZcRKDO",
        "outputId": "83810dfa-971b-4713-c591-c2b99c82fcfd"
      },
      "source": [
        "# Download the Postgres driver that will allow Spark to interact with Postgres.\n",
        "!wget https://jdbc.postgresql.org/download/postgresql-42.2.16.jar"
      ],
      "execution_count": null,
      "outputs": [
        {
          "output_type": "stream",
          "text": [
            "--2021-08-09 01:34:10--  https://jdbc.postgresql.org/download/postgresql-42.2.16.jar\n",
            "Resolving jdbc.postgresql.org (jdbc.postgresql.org)... 72.32.157.228, 2001:4800:3e1:1::228\n",
            "Connecting to jdbc.postgresql.org (jdbc.postgresql.org)|72.32.157.228|:443... connected.\n",
            "HTTP request sent, awaiting response... 200 OK\n",
            "Length: 1002883 (979K) [application/java-archive]\n",
            "Saving to: ‘postgresql-42.2.16.jar.2’\n",
            "\n",
            "postgresql-42.2.16. 100%[===================>] 979.38K  1.21MB/s    in 0.8s    \n",
            "\n",
            "2021-08-09 01:34:12 (1.21 MB/s) - ‘postgresql-42.2.16.jar.2’ saved [1002883/1002883]\n",
            "\n"
          ],
          "name": "stdout"
        }
      ]
    },
    {
      "cell_type": "code",
      "metadata": {
        "id": "QxqXOV4KRKF6"
      },
      "source": [
        "from pyspark.sql import SparkSession\n",
        "spark = SparkSession.builder.appName(\"M16-Amazon-Challenge\").config(\"spark.driver.extraClassPath\",\"/content/postgresql-42.2.16.jar\").getOrCreate()"
      ],
      "execution_count": null,
      "outputs": []
    },
    {
      "cell_type": "code",
      "metadata": {
        "colab": {
          "base_uri": "https://localhost:8080/"
        },
        "id": "modj_rrSRKIe",
        "outputId": "ae72094e-ac37-48bc-d7fb-c8fb3b04f996"
      },
      "source": [
        "from pyspark import SparkFiles\n",
        "url = \"https://s3.amazonaws.com/amazon-reviews-pds/tsv/amazon_reviews_us_Sports_v1_00.tsv.gz\"\n",
        "spark.sparkContext.addFile(url)\n",
        "df = spark.read.option(\"encoding\", \"UTF-8\").csv(SparkFiles.get(\"\"), sep=\"\\t\", header=True, inferSchema=True)\n",
        "df.show()"
      ],
      "execution_count": null,
      "outputs": [
        {
          "output_type": "stream",
          "text": [
            "+-----------+-----------+--------------+----------+--------------+--------------------+----------------+-----------+-------------+-----------+----+-----------------+--------------------+--------------------+-----------+\n",
            "|marketplace|customer_id|     review_id|product_id|product_parent|       product_title|product_category|star_rating|helpful_votes|total_votes|vine|verified_purchase|     review_headline|         review_body|review_date|\n",
            "+-----------+-----------+--------------+----------+--------------+--------------------+----------------+-----------+-------------+-----------+----+-----------------+--------------------+--------------------+-----------+\n",
            "|         US|   48945260|R1WBPB8MDCCN8F|B012P7UPSM|     409940130|Chicago Blackhawk...|          Sports|          5|            0|          0|   N|                N|   LOVE IT. 6 stars!|Bought this last ...| 2015-08-31|\n",
            "|         US|    5782091|R32M0YEWV77XG8|B001GQ3VHG|     657746679|Copag Poker Size ...|          Sports|          5|            1|          1|   N|                Y|       Shipped fast.|These are the bes...| 2015-08-31|\n",
            "|         US|   45813853| RR8V7WR27NXJ5|B008VS8M58|     962442336|Baoer 223 5.56x45...|          Sports|          1|            0|          0|   N|                Y|Good idea if it w...|It looks good, th...| 2015-08-31|\n",
            "|         US|    1593730|R1MHO5V9Z932AY|B005F06F4U|      74305227|All Terrain Tackl...|          Sports|          5|            0|          0|   N|                Y|          Five Stars|           Great jig| 2015-08-31|\n",
            "|         US|   29605511|R16PD71086BD2V|B010T4IE2C|     787185588|Swim Cap - 3 Pack...|          Sports|          5|            0|          1|   N|                N|Great quality sil...|I love swimming i...| 2015-08-31|\n",
            "|         US|   11112959|R1Z8IFGWTRWXT6|B004RKJGLS|      94127483|adidas Men's Spor...|          Sports|          3|            0|          0|   N|                Y|Love everything a...|Love everything a...| 2015-08-31|\n",
            "|         US|     108031|R3AUMSHAW73HWN|B005V3DCBU|     526977496|Nike Men's Perfor...|          Sports|          4|            2|          3|   N|                N|          Four Stars|not the best sock...| 2015-08-31|\n",
            "|         US|   13981540|R2KWDWFOHGX6FL|B00MHT9WN8|      26521265|Green Bay Packers...|          Sports|          5|            0|          0|   N|                Y|          Five Stars|             Love it| 2015-08-31|\n",
            "|         US|   37993909|R3H9543FWBWFBU|B001CSIRQ8|     652431165|Isokinetics Inc. ...|          Sports|          5|            1|          1|   N|                Y|can't wait to use it|Unfortunately I h...| 2015-08-31|\n",
            "|         US|   26040213| RUANXOQ9W3OU5|B001KZ3NOO|     635861713|Aottop Quality El...|          Sports|          5|            0|          0|   N|                Y|great product, ac...|fast shipping , g...| 2015-08-31|\n",
            "|         US|   34657602|R31673RTGEZSW7|B00005RCQS|      72099763|Everlast 2'x6' Fo...|          Sports|          5|            2|          2|   N|                Y|this mat is a pre...|If you have a ter...| 2015-08-31|\n",
            "|         US|   14346192|R22OQLFSH42RCM|B00FA7RWVI|     757354022|OGIO Men's Shredd...|          Sports|          5|            1|          1|   N|                Y|  Versatile Golf Bag|Love this golf ba...| 2015-08-31|\n",
            "|         US|   38782687|R12LEL4F3TSZUJ|B000MMH2HU|     272402599|Blue Sea Systems ...|          Sports|          5|            2|          2|   N|                Y|Great AC Main Bre...|Perfect mounting ...| 2015-08-31|\n",
            "|         US|   27138575|R2L9XWD03072NI|B00WJOATDS|     375070208|Zengi AR15 45 Deg...|          Sports|          5|            1|          2|   N|                Y|   Nice, some quirks|For the cost you ...| 2015-08-31|\n",
            "|         US|   11838771|R2K0U91HIACANO|B00BOM2JNY|     639666785|Black Mountain Pr...|          Sports|          5|            0|          0|   N|                N|55 cm - Good qual...|The ball is very ...| 2015-08-31|\n",
            "|         US|     535800|R29SP6MBT7MXG7|B00OD5GAFM|      38715442|Trijicon VCOG 1-6...|          Sports|          4|            3|          3|   N|                Y|    Very nice scope.|Very nice scope.....| 2015-08-31|\n",
            "|         US|   23156579|R31XREAAMATEPY|B00CAHDC1K|      57088652|Naruto Headband f...|          Sports|          5|            0|          0|   N|                Y|was for my son an...|           This item| 2015-08-31|\n",
            "|         US|   48107879|R2116AVB87SO38|B004NLHXLG|     114125984|Under Armour Men'...|          Sports|          5|            0|          0|   N|                Y|          Five Stars|greatest socks i ...| 2015-08-31|\n",
            "|         US|   27260960|R3RDVBB6O0X3HW|B00L7OANWI|     883962979|Yes4All Deep Tiss...|          Sports|          5|            0|          0|   N|                Y|          Five Stars|Perfect for home ...| 2015-08-31|\n",
            "|         US|   39537314|R3LW5T149LKKQM|B0085PPSIQ|     691479969|Lansky PS-MED01 B...|          Sports|          4|            0|          0|   N|                Y|A bit heavy for p...|Very good product...| 2015-08-31|\n",
            "+-----------+-----------+--------------+----------+--------------+--------------------+----------------+-----------+-------------+-----------+----+-----------------+--------------------+--------------------+-----------+\n",
            "only showing top 20 rows\n",
            "\n"
          ],
          "name": "stdout"
        }
      ]
    },
    {
      "cell_type": "code",
      "metadata": {
        "colab": {
          "base_uri": "https://localhost:8080/"
        },
        "id": "LH9kMZxCRZkM",
        "outputId": "ed95e4d5-b78a-46de-ca1a-d483b45e85ad"
      },
      "source": [
        "# Create the vine_table. DataFrame\n",
        "vine_df = df.select([\"review_id\",\"star_rating\",\"helpful_votes\",\"total_votes\",\"vine\",\"verified_purchase\"])\n",
        "vine_df = vine_df.withColumn(\"star_rating\", vine_df.star_rating.cast(\"int\")).dropDuplicates(['review_id']).dropna()\n",
        "vine_df.show()"
      ],
      "execution_count": null,
      "outputs": [
        {
          "output_type": "stream",
          "text": [
            "+--------------+-----------+-------------+-----------+----+-----------------+\n",
            "|     review_id|star_rating|helpful_votes|total_votes|vine|verified_purchase|\n",
            "+--------------+-----------+-------------+-----------+----+-----------------+\n",
            "|R10009GL6PAAAW|          5|            0|          0|   N|                Y|\n",
            "|R1006JQWUSRBNN|          5|            2|          2|   N|                Y|\n",
            "|R1008DD0C9NX9Z|          5|            5|          5|   N|                Y|\n",
            "|R100AR6CZ42VWH|          5|            0|          0|   N|                Y|\n",
            "|R1010416UKW5ZU|          5|            2|          2|   N|                Y|\n",
            "|R1010DZNIMPZZ2|          5|            0|          0|   N|                Y|\n",
            "|R1018JS8BGMK34|          5|            0|          0|   N|                Y|\n",
            "|R101HDV705HBFJ|          5|            0|          0|   N|                Y|\n",
            "|R101LB1X1YF92F|          4|            0|          0|   N|                Y|\n",
            "|R101LHAQE0WOK4|          5|            0|          1|   N|                Y|\n",
            "|R101LHR1FSQTUX|          5|           18|         18|   N|                Y|\n",
            "|R101R85SI4CEYT|          5|            0|          0|   N|                Y|\n",
            "|R101S2BFTEG5YO|          5|            0|          0|   N|                Y|\n",
            "|R101U43115T1IP|          5|           36|         39|   N|                Y|\n",
            "|R101VOCN0F3NDW|          5|            3|          3|   N|                Y|\n",
            "|R101YXJ9P08TOX|          5|            0|          0|   N|                N|\n",
            "|R102DXH7PUFYAZ|          5|            0|          0|   N|                Y|\n",
            "|R102HHKZWVT9I9|          4|            8|          9|   N|                N|\n",
            "|R102TTWWHF1703|          4|            0|          0|   N|                N|\n",
            "|R102VE5ZCJBUDG|          5|            2|          2|   N|                Y|\n",
            "+--------------+-----------+-------------+-----------+----+-----------------+\n",
            "only showing top 20 rows\n",
            "\n"
          ],
          "name": "stdout"
        }
      ]
    },
    {
      "cell_type": "code",
      "metadata": {
        "colab": {
          "base_uri": "https://localhost:8080/"
        },
        "id": "b0s1b9OsSWfs",
        "outputId": "c76e8811-bde7-4708-80b8-4e9e07651e1b"
      },
      "source": [
        "# Step 1\n",
        "# filter data and create a new dataframe to retrieve all rows where total_votes is = or > 20\n",
        "vote_count_20 = vine_df.filter(\"total_votes >=20\")\n",
        "vote_count_20.show()"
      ],
      "execution_count": null,
      "outputs": [
        {
          "output_type": "stream",
          "text": [
            "+--------------+-----------+-------------+-----------+----+-----------------+\n",
            "|     review_id|star_rating|helpful_votes|total_votes|vine|verified_purchase|\n",
            "+--------------+-----------+-------------+-----------+----+-----------------+\n",
            "|R101U43115T1IP|          5|           36|         39|   N|                Y|\n",
            "|R10MQKQ3M27SNK|          5|           22|         22|   N|                Y|\n",
            "| R10S42W67DZT1|          3|           22|         24|   N|                Y|\n",
            "|R10Y6J50XMLAJB|          4|           44|         52|   N|                N|\n",
            "|R112KRQ78XAFUW|          5|          128|        141|   N|                Y|\n",
            "|R116R6PQGUR61W|          1|           23|         32|   N|                Y|\n",
            "|R11YU1QNX8SBZL|          1|            0|         26|   N|                Y|\n",
            "|R11ZZYWTLNV17H|          5|           66|         69|   N|                Y|\n",
            "|R12E7J286GGM6W|          2|           40|         44|   N|                N|\n",
            "|R12FCXY18H5ZSN|          4|           20|         22|   N|                Y|\n",
            "|R12R7IXXCN6GB2|          1|           12|         66|   N|                N|\n",
            "|R12X4DD4YL62CR|          4|           99|        110|   N|                N|\n",
            "|R13LBTW7B8J7YZ|          5|           25|         27|   N|                Y|\n",
            "|R13NW013FSOQDE|          5|           27|         28|   N|                Y|\n",
            "|R14JT3US7RI1XC|          5|           22|         25|   N|                N|\n",
            "|R154U2LZYDTGLM|          3|           32|         40|   N|                N|\n",
            "|R157ULQDSXIO7U|          5|           25|         27|   N|                Y|\n",
            "|R15COTRIB0ECXK|          5|           21|         21|   N|                Y|\n",
            "|R15MOSQL246O26|          1|           21|         23|   N|                N|\n",
            "|R162V2QN9YFTC6|          5|           24|         25|   N|                Y|\n",
            "+--------------+-----------+-------------+-----------+----+-----------------+\n",
            "only showing top 20 rows\n",
            "\n"
          ],
          "name": "stdout"
        }
      ]
    },
    {
      "cell_type": "code",
      "metadata": {
        "colab": {
          "base_uri": "https://localhost:8080/"
        },
        "id": "kpp6fMAOSWio",
        "outputId": "4ad2476f-914e-49ce-8a86-c116c50ec585"
      },
      "source": [
        "# Step 2\n",
        "# filter step 1 and create a new dataframe to retrieve all rows where helpful_votes divided by total_votes is = or > 50%\n",
        "vote_count_50 = vote_count_20.filter(vote_count_20[\"helpful_votes\"]/vote_count_20[\"total_votes\"]>=0.5)\n",
        "vote_count_50.show()"
      ],
      "execution_count": null,
      "outputs": [
        {
          "output_type": "stream",
          "text": [
            "+--------------+-----------+-------------+-----------+----+-----------------+\n",
            "|     review_id|star_rating|helpful_votes|total_votes|vine|verified_purchase|\n",
            "+--------------+-----------+-------------+-----------+----+-----------------+\n",
            "|R101U43115T1IP|          5|           36|         39|   N|                Y|\n",
            "|R10MQKQ3M27SNK|          5|           22|         22|   N|                Y|\n",
            "| R10S42W67DZT1|          3|           22|         24|   N|                Y|\n",
            "|R10Y6J50XMLAJB|          4|           44|         52|   N|                N|\n",
            "|R112KRQ78XAFUW|          5|          128|        141|   N|                Y|\n",
            "|R116R6PQGUR61W|          1|           23|         32|   N|                Y|\n",
            "|R11ZZYWTLNV17H|          5|           66|         69|   N|                Y|\n",
            "|R12E7J286GGM6W|          2|           40|         44|   N|                N|\n",
            "|R12FCXY18H5ZSN|          4|           20|         22|   N|                Y|\n",
            "|R12X4DD4YL62CR|          4|           99|        110|   N|                N|\n",
            "|R13LBTW7B8J7YZ|          5|           25|         27|   N|                Y|\n",
            "|R13NW013FSOQDE|          5|           27|         28|   N|                Y|\n",
            "|R14JT3US7RI1XC|          5|           22|         25|   N|                N|\n",
            "|R154U2LZYDTGLM|          3|           32|         40|   N|                N|\n",
            "|R157ULQDSXIO7U|          5|           25|         27|   N|                Y|\n",
            "|R15COTRIB0ECXK|          5|           21|         21|   N|                Y|\n",
            "|R15MOSQL246O26|          1|           21|         23|   N|                N|\n",
            "|R162V2QN9YFTC6|          5|           24|         25|   N|                Y|\n",
            "|R16SHDQ8RPH3A2|          2|           16|         20|   N|                Y|\n",
            "|R16XH8CBCL1439|          4|          160|        164|   N|                Y|\n",
            "+--------------+-----------+-------------+-----------+----+-----------------+\n",
            "only showing top 20 rows\n",
            "\n"
          ],
          "name": "stdout"
        }
      ]
    },
    {
      "cell_type": "code",
      "metadata": {
        "colab": {
          "base_uri": "https://localhost:8080/"
        },
        "id": "NrXMlD2USWmo",
        "outputId": "e724961f-69e0-4fdb-de75-b4743e97a646"
      },
      "source": [
        "# Step 3\n",
        "# filter step 2 and create new dataframe that retrieves all rows where review was written as part of the vine program (paid), vine == 'Y'\n",
        "vine_program_y = vote_count_50.filter(vote_count_50[\"vine\"] =='Y')\n",
        "vine_program_y.show()"
      ],
      "execution_count": null,
      "outputs": [
        {
          "output_type": "stream",
          "text": [
            "+--------------+-----------+-------------+-----------+----+-----------------+\n",
            "|     review_id|star_rating|helpful_votes|total_votes|vine|verified_purchase|\n",
            "+--------------+-----------+-------------+-----------+----+-----------------+\n",
            "|R3SJHBRUSRAYS6|          5|           20|         23|   Y|                N|\n",
            "|R3FK059WUSXX5U|          4|           20|         25|   Y|                N|\n",
            "|R2558BMKF7HK0D|          1|          720|        928|   Y|                N|\n",
            "| R2R2WU76KCCCL|          5|           19|         21|   Y|                N|\n",
            "|R17V0U2RS9UGBY|          4|          187|        200|   Y|                N|\n",
            "|R2OTHTVVK4RZXI|          4|           50|         60|   Y|                N|\n",
            "|R3IJWNLDMHOSW8|          5|           31|         33|   Y|                N|\n",
            "|R1Z192NHYX1PWT|          4|           38|         42|   Y|                N|\n",
            "| RX8TSC5PKNMB9|          5|           27|         29|   Y|                N|\n",
            "|R329N0ZWG4TYHA|          4|           29|         30|   Y|                N|\n",
            "| RF7YJ5O1DZ1QI|          5|           35|         37|   Y|                N|\n",
            "|R1803HITBY7Y08|          4|           92|        104|   Y|                N|\n",
            "|R2ZODIO5T7ZORO|          3|           16|         22|   Y|                N|\n",
            "|R317W894JOGBT0|          3|           22|         31|   Y|                N|\n",
            "|R1202MAW6352YW|          4|           41|         49|   Y|                N|\n",
            "|R3AU5Z0GSTUENI|          4|           20|         20|   Y|                N|\n",
            "|R2430WXCGFS4Z3|          5|           81|         86|   Y|                N|\n",
            "| RGHS0JG2TS9BL|          4|           28|         30|   Y|                N|\n",
            "| RM5XPUNQ3RJCX|          5|           17|         20|   Y|                N|\n",
            "| RN19P74KRJ8UI|          5|           48|         54|   Y|                N|\n",
            "+--------------+-----------+-------------+-----------+----+-----------------+\n",
            "only showing top 20 rows\n",
            "\n"
          ],
          "name": "stdout"
        }
      ]
    },
    {
      "cell_type": "code",
      "metadata": {
        "colab": {
          "base_uri": "https://localhost:8080/"
        },
        "id": "l2bkCh15RZmw",
        "outputId": "a6f9d153-f06a-40c0-a527-6d38a1a03b2d"
      },
      "source": [
        "# Step 4\n",
        "# filter step 2 and create new dataframe that retrieves all rows where review was written as NOT part of the vine program (unpaid), vine == 'N'\n",
        "vine_program_n = vote_count_50.filter(vote_count_50[\"vine\"] =='N')\n",
        "vine_program_n.show()"
      ],
      "execution_count": null,
      "outputs": [
        {
          "output_type": "stream",
          "text": [
            "+--------------+-----------+-------------+-----------+----+-----------------+\n",
            "|     review_id|star_rating|helpful_votes|total_votes|vine|verified_purchase|\n",
            "+--------------+-----------+-------------+-----------+----+-----------------+\n",
            "|R101U43115T1IP|          5|           36|         39|   N|                Y|\n",
            "|R10MQKQ3M27SNK|          5|           22|         22|   N|                Y|\n",
            "| R10S42W67DZT1|          3|           22|         24|   N|                Y|\n",
            "|R10Y6J50XMLAJB|          4|           44|         52|   N|                N|\n",
            "|R112KRQ78XAFUW|          5|          128|        141|   N|                Y|\n",
            "|R116R6PQGUR61W|          1|           23|         32|   N|                Y|\n",
            "|R11ZZYWTLNV17H|          5|           66|         69|   N|                Y|\n",
            "|R12E7J286GGM6W|          2|           40|         44|   N|                N|\n",
            "|R12FCXY18H5ZSN|          4|           20|         22|   N|                Y|\n",
            "|R12X4DD4YL62CR|          4|           99|        110|   N|                N|\n",
            "|R13LBTW7B8J7YZ|          5|           25|         27|   N|                Y|\n",
            "|R13NW013FSOQDE|          5|           27|         28|   N|                Y|\n",
            "|R14JT3US7RI1XC|          5|           22|         25|   N|                N|\n",
            "|R154U2LZYDTGLM|          3|           32|         40|   N|                N|\n",
            "|R157ULQDSXIO7U|          5|           25|         27|   N|                Y|\n",
            "|R15COTRIB0ECXK|          5|           21|         21|   N|                Y|\n",
            "|R15MOSQL246O26|          1|           21|         23|   N|                N|\n",
            "|R162V2QN9YFTC6|          5|           24|         25|   N|                Y|\n",
            "|R16SHDQ8RPH3A2|          2|           16|         20|   N|                Y|\n",
            "|R16XH8CBCL1439|          4|          160|        164|   N|                Y|\n",
            "+--------------+-----------+-------------+-----------+----+-----------------+\n",
            "only showing top 20 rows\n",
            "\n"
          ],
          "name": "stdout"
        }
      ]
    },
    {
      "cell_type": "code",
      "metadata": {
        "colab": {
          "base_uri": "https://localhost:8080/"
        },
        "id": "1uxjhVJXRZpp",
        "outputId": "94a61839-deb7-458e-b24d-69619b1489da"
      },
      "source": [
        "# step 5 A\n",
        "# Determine the total number of reviews, \n",
        "reviews_total = vote_count_50.select(\"star_rating\").count()\n",
        "reviews_total"
      ],
      "execution_count": null,
      "outputs": [
        {
          "output_type": "execute_result",
          "data": {
            "text/plain": [
              "61948"
            ]
          },
          "metadata": {
            "tags": []
          },
          "execution_count": 12
        }
      ]
    },
    {
      "cell_type": "code",
      "metadata": {
        "colab": {
          "base_uri": "https://localhost:8080/"
        },
        "id": "tyW4MoN1Tp-t",
        "outputId": "859e1c82-79ae-4aa4-beec-720e2ce04d7c"
      },
      "source": [
        "# Step 5 B\n",
        "# the number of 5-star reviews \n",
        "reviews_5_star = vote_count_50.filter(vine_df[\"star_rating\"] == \"5\").count()\n",
        "reviews_5_star"
      ],
      "execution_count": null,
      "outputs": [
        {
          "output_type": "execute_result",
          "data": {
            "text/plain": [
              "32804"
            ]
          },
          "metadata": {
            "tags": []
          },
          "execution_count": 13
        }
      ]
    },
    {
      "cell_type": "code",
      "metadata": {
        "id": "6sdjuO4Zgdjv"
      },
      "source": [
        "# Step 5 C\n",
        "# paid and unpaid reviews\n",
        "reviews_5_star_paid = vine_program_y.filter(vote_count_50[\"star_rating\"] == \"5\").count()\n",
        "reviews_5_star_unpaid = vine_program_n.filter(vine_df[\"star_rating\"] == \"5\").count()"
      ],
      "execution_count": null,
      "outputs": []
    },
    {
      "cell_type": "code",
      "metadata": {
        "colab": {
          "base_uri": "https://localhost:8080/"
        },
        "id": "11CKStzWTqBh",
        "outputId": "f45e2c1b-ff30-4640-f8c5-5e459fa8fd38"
      },
      "source": [
        "# Step 5 D\n",
        "# , and the percentage of 5-star reviews paid\n",
        "reviews_percent_5_star_paid = reviews_5_star_paid/reviews_total * 100\n",
        "reviews_percent_5_star_paid"
      ],
      "execution_count": null,
      "outputs": [
        {
          "output_type": "execute_result",
          "data": {
            "text/plain": [
              "0.2243817395234713"
            ]
          },
          "metadata": {
            "tags": []
          },
          "execution_count": 15
        }
      ]
    },
    {
      "cell_type": "code",
      "metadata": {
        "colab": {
          "base_uri": "https://localhost:8080/"
        },
        "id": "bk1GflU2hrJL",
        "outputId": "bec8c4b0-ba96-4c9e-d190-1f9c3ff6fb5b"
      },
      "source": [
        "# Step 5 E\n",
        "#  and the percentage of 5-star reviews unpaid\n",
        "reviews_percent_5_star_unpaid = reviews_5_star_unpaid/reviews_total * 100\n",
        "reviews_percent_5_star_unpaid"
      ],
      "execution_count": null,
      "outputs": [
        {
          "output_type": "execute_result",
          "data": {
            "text/plain": [
              "52.72970878801575"
            ]
          },
          "metadata": {
            "tags": []
          },
          "execution_count": 16
        }
      ]
    }
  ]
}